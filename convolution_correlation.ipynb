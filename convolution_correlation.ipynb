{
  "cells": [
    {
      "cell_type": "code",
      "execution_count": null,
      "metadata": {
        "id": "4uGHOpy13h44"
      },
      "outputs": [
        {
          "name": "stdout",
          "output_type": "stream",
          "text": [
            "[0.5 2.  4.  4.  1.5]\n"
          ]
        }
      ],
      "source": [
        "import numpy as np\n",
        "x = np.array([1, 2, 3])\n",
        "h = np.array([0.5, 1, 0.5])\n",
        "y = np.convolve(x, h)\n",
        "print(y)"
      ]
    },
    {
      "cell_type": "code",
      "execution_count": null,
      "metadata": {},
      "outputs": [],
      "source": []
    },
    {
      "cell_type": "code",
      "execution_count": null,
      "metadata": {
        "id": "lk0p3lwS36yz"
      },
      "outputs": [
        {
          "name": "stdout",
          "output_type": "stream",
          "text": [
            "[1. 3. 6. 9. 7. 4.]\n"
          ]
        }
      ],
      "source": [
        "import numpy as np\n",
        "x = np.array([1, 2, 3, 4])\n",
        "h = np.array([1, 1, 1])\n",
        "N = len(x) + len(h) - 1\n",
        "X = np.fft.fft(x, n=N)\n",
        "H = np.fft.fft(h, n=N)\n",
        "Y = X * H\n",
        "y = np.fft.ifft(Y).real\n",
        "print(y)"
      ]
    },
    {
      "cell_type": "code",
      "execution_count": 5,
      "metadata": {
        "id": "u-QPuUdp4Xz3"
      },
      "outputs": [
        {
          "name": "stdout",
          "output_type": "stream",
          "text": [
            "[ 0 -1 -2 -2 -2 -2  4  5  0]\n"
          ]
        }
      ],
      "source": [
        "import numpy as np\n",
        "from scipy.signal import correlate\n",
        "x = np.array([1, 2, 3, 4, 5])\n",
        "y = np.array([0, 1, 0, -1, 0])\n",
        "corr_xy = correlate(x, y, mode='full')\n",
        "print(corr_xy)"
      ]
    },
    {
      "cell_type": "markdown",
      "metadata": {
        "id": "ow8Xwwup5APX"
      },
      "source": [
        "# **Auto-correlation**\n",
        "Auto-correlation is a mathematical operation that measures the similarity between a signal and a delayed version of itself. It is often used in signal processing to find patterns in a signal, detect periodicity, and estimate pitch."
      ]
    },
    {
      "cell_type": "code",
      "execution_count": 4,
      "metadata": {
        "id": "Gi_kWjnp41x4"
      },
      "outputs": [
        {
          "name": "stdout",
          "output_type": "stream",
          "text": [
            "[26 40 55 40 26]\n"
          ]
        }
      ],
      "source": [
        "import numpy as np\n",
        "\n",
        "def auto_correlation(x):\n",
        "    # Compute the auto-correlation of the signal\n",
        "    return np.correlate(x, x, mode='same')\n",
        "\n",
        "# Example usage\n",
        "x = np.array([1, 2, 3, 4, 5])\n",
        "r = auto_correlation(x)\n",
        "print(r)"
      ]
    }
  ],
  "metadata": {
    "colab": {
      "provenance": []
    },
    "kernelspec": {
      "display_name": "Python 3",
      "name": "python3"
    },
    "language_info": {
      "codemirror_mode": {
        "name": "ipython",
        "version": 3
      },
      "file_extension": ".py",
      "mimetype": "text/x-python",
      "name": "python",
      "nbconvert_exporter": "python",
      "pygments_lexer": "ipython3",
      "version": "3.12.4"
    }
  },
  "nbformat": 4,
  "nbformat_minor": 0
}
