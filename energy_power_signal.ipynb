{
  "cells": [
    {
      "cell_type": "code",
      "execution_count": 1,
      "metadata": {
        "colab": {
          "base_uri": "https://localhost:8080/"
        },
        "id": "pyrnLdI_Gn6Q",
        "outputId": "6f255bfb-0ad5-4bb2-bec0-e9ffab6aa041"
      },
      "outputs": [
        {
          "name": "stdout",
          "output_type": "stream",
          "text": [
            "Energy of x(t) = 0.43219703173852475\n"
          ]
        }
      ],
      "source": [
        "import numpy as np\n",
        "\n",
        "fs = 1000\n",
        "t = np.linspace(0, 1, fs, endpoint=False)\n",
        "x = np.exp(-t)\n",
        "\n",
        "E = np.trapz(np.abs(x)**2, t)\n",
        "\n",
        "print(\"Energy of x(t) =\", E)"
      ]
    },
    {
      "cell_type": "code",
      "execution_count": 2,
      "metadata": {
        "colab": {
          "base_uri": "https://localhost:8080/"
        },
        "id": "CyQVE56sGp_b",
        "outputId": "efc661c3-5857-4d29-8dcf-9748256ec9ad"
      },
      "outputs": [
        {
          "name": "stdout",
          "output_type": "stream",
          "text": [
            "Power of x(t) = 1.0009832880147758\n"
          ]
        }
      ],
      "source": [
        "import numpy as np\n",
        "\n",
        "fs = 1000\n",
        "t = np.linspace(0, 1, fs, endpoint=False)\n",
        "x = np.sin(2*np.pi*10*t) + np.sin(2*np.pi*20*t)\n",
        "\n",
        "P = np.trapz(np.abs(x)**2, t) / (t[-1]-t[0])\n",
        "\n",
        "print(\"Power of x(t) =\", P)"
      ]
    }
  ],
  "metadata": {
    "colab": {
      "provenance": []
    },
    "kernelspec": {
      "display_name": "Python 3",
      "name": "python3"
    },
    "language_info": {
      "codemirror_mode": {
        "name": "ipython",
        "version": 3
      },
      "file_extension": ".py",
      "mimetype": "text/x-python",
      "name": "python",
      "nbconvert_exporter": "python",
      "pygments_lexer": "ipython3",
      "version": "3.12.4"
    }
  },
  "nbformat": 4,
  "nbformat_minor": 0
}
